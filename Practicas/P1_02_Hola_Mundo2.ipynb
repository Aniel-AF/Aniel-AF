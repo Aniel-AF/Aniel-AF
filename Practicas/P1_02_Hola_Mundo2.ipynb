{
 "cells": [
  {
   "cell_type": "markdown",
   "id": "b7284e88",
   "metadata": {},
   "source": [
    "#Verificasión del funcionamiento \n"
   ]
  },
  {
   "cell_type": "code",
   "execution_count": 3,
   "id": "b1631f59",
   "metadata": {},
   "outputs": [
    {
     "name": "stdout",
     "output_type": "stream",
     "text": [
      "Si  esta funcionando\n"
     ]
    }
   ],
   "source": [
    "print(\"Si  esta funcionando\")"
   ]
  }
 ],
 "metadata": {
  "kernelspec": {
   "display_name": "Python 3",
   "language": "python",
   "name": "python3"
  },
  "language_info": {
   "codemirror_mode": {
    "name": "ipython",
    "version": 3
   },
   "file_extension": ".py",
   "mimetype": "text/x-python",
   "name": "python",
   "nbconvert_exporter": "python",
   "pygments_lexer": "ipython3",
   "version": "3.13.4"
  }
 },
 "nbformat": 4,
 "nbformat_minor": 5
}
